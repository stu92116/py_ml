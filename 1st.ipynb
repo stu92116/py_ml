{
 "metadata": {
  "language_info": {
   "codemirror_mode": {
    "name": "ipython",
    "version": 3
   },
   "file_extension": ".py",
   "mimetype": "text/x-python",
   "name": "python",
   "nbconvert_exporter": "python",
   "pygments_lexer": "ipython3",
   "version": 3
  },
  "orig_nbformat": 2
 },
 "nbformat": 4,
 "nbformat_minor": 2,
 "cells": [
  {
   "cell_type": "code",
   "execution_count": null,
   "metadata": {},
   "outputs": [],
   "source": [
    "# please note, all tutorial code are running under python3.5.\n",
    "# If you use the version like python2.7, please modify the code accordingly\n",
    "from keras.utils.vis_utils import plot_model\n",
    "\n",
    "# 4 - Regressor example\n",
    "import math\n",
    "import numpy as np\n",
    "\n",
    "%matplotlib inline  #This makes the plots appear inside the notebook\n",
    "from keras.utils import plot_model\n",
    "from keras.models import Sequential\n",
    "from keras.layers import Dense\n",
    "import matplotlib.pyplot as plt\n",
    "\n",
    "from keras import activations\n",
    "from keras import optimizers\n",
    "from keras.models import Model, Sequential\n",
    "from keras.layers import LSTM, Dense, Dropout ,CuDNNLSTM,SimpleRNN\n",
    "import tensorflow as tf\n",
    "import tensorflow_addons as tfa\n",
    "#save\n",
    "import os\n",
    "\n",
    "#csv read\n",
    "from numpy import genfromtxt\n",
    "\n",
    "#data process\n",
    "from sklearn import preprocessing\n",
    "\n",
    "from sklearn import model_selection\n",
    "\n",
    "#plot\n",
    "import subprocess\n",
    "#matlab \n",
    "import transplant\n"
   ]
  },
  {
   "cell_type": "code",
   "execution_count": null,
   "metadata": {},
   "outputs": [],
   "source": []
  }
 ]
}